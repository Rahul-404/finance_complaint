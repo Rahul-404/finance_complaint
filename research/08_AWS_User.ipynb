{
 "cells": [
  {
   "cell_type": "markdown",
   "id": "654210e2",
   "metadata": {},
   "source": [
    "1. What is IAM User ?\n",
    "\n",
    "\n",
    "- Whene ever we cerate an **AWS** account, we use the basically an *email id* to create an *AWS* account, you AWS account to that *email id* and *password* becomes your root user credentials.\n",
    "\n",
    "- When we login to your AWS account using the *email id* you will be having root access means access to all the resources and services by default in that account, that is called **root user**.\n",
    "\n",
    "- Now suppose you want to grant an access to someone else, with let's say limited permissions and access then you can make use of **IAM** and create an **IAM User** which will be having *User name* and *Password*, then that user can log into your user account using those credentials.\n",
    "\n",
    "- S(he) will be ahving the permissions only which we have granted to that user."
   ]
  },
  {
   "cell_type": "markdown",
   "id": "96ea1967",
   "metadata": {},
   "source": [
    "2. IAM User Creation, Login to **AWS Console** with *root user* or **IAM User** which has permission to create *IAM User*, [https://aws.amazon.com/console/](https://aws.amazon.com/console/)"
   ]
  },
  {
   "cell_type": "markdown",
   "id": "9293647f",
   "metadata": {},
   "source": [
    "3. Navigate to **IAM**\n",
    "\n",
    "![IAM-navigation](images/aws_user/IAM-navigation.png)"
   ]
  },
  {
   "cell_type": "markdown",
   "id": "b4ca3b8d",
   "metadata": {},
   "source": [
    "4. Click on **Users**, then click on **Create user**.\n",
    "\n",
    "![users](images/aws_user/create-user.png)"
   ]
  },
  {
   "cell_type": "markdown",
   "id": "87bd0e26",
   "metadata": {},
   "source": [
    "5. Now, from here will provide details of user, in **Specify user details** step, provide *user name*"
   ]
  },
  {
   "cell_type": "markdown",
   "id": "9acc3e07",
   "metadata": {},
   "source": [
    "6. **[ ] Provide user access to the AWS Management Console - optional**,\n",
    "    - if we don't tick this option, user will have only programatic access, meaning s(he) can access your *AWS* account only through **SDK's** or **CLI**"
   ]
  },
  {
   "cell_type": "markdown",
   "id": "cf905ef4",
   "metadata": {},
   "source": [
    "7. Select **\"I wnat to create an IAM user\"**"
   ]
  },
  {
   "cell_type": "markdown",
   "id": "cd39f19a",
   "metadata": {},
   "source": [
    "![create-user](images/aws_user/create-user-1.png)"
   ]
  },
  {
   "cell_type": "markdown",
   "id": "537d1374",
   "metadata": {},
   "source": [
    "8. create **custom password**"
   ]
  },
  {
   "cell_type": "markdown",
   "id": "690c8539",
   "metadata": {},
   "source": [
    "9. **[ ] Users must create a new password at next sign-in - Recommended**\n",
    "    - mostly unchecking this"
   ]
  },
  {
   "cell_type": "markdown",
   "id": "ba256220",
   "metadata": {},
   "source": [
    "10. Click on **Next**"
   ]
  },
  {
   "cell_type": "markdown",
   "id": "bc6ec97f",
   "metadata": {},
   "source": [
    "![create-user](images/aws_user/create-user-2.png)"
   ]
  },
  {
   "cell_type": "markdown",
   "id": "0369c2ed",
   "metadata": {},
   "source": [
    "11. **Permission option :**\n",
    "\n",
    "    1. **Add user to group :** if there is existing group where we have already assigned permission to the group , there we can add this user.\n",
    "\n",
    "    2. **Copy permissions :** copy all group memebership, attached managed policies and inline policies from an existing user.\n",
    "\n",
    "    3. **Attach policies directly :** here we can assign any of the provided pilicies to the user, based on our choice."
   ]
  },
  {
   "cell_type": "markdown",
   "id": "b98fa34d",
   "metadata": {},
   "source": [
    "![create-user](images/aws_user/create-user-3.png)"
   ]
  },
  {
   "cell_type": "markdown",
   "id": "567f67ea",
   "metadata": {},
   "source": [
    "13. Policies are a json files, which shows the permission can be assigned to use, choose wisely and assign those accordingly"
   ]
  },
  {
   "cell_type": "markdown",
   "id": "ece5a5c9",
   "metadata": {},
   "source": [
    "14. for quick creation , we are skipping the **Set permission boundary**, and click **Next**."
   ]
  },
  {
   "cell_type": "markdown",
   "id": "c79beec2",
   "metadata": {},
   "source": [
    "![create-user](images/aws_user/create-user-4.png)"
   ]
  },
  {
   "cell_type": "markdown",
   "id": "cefde914",
   "metadata": {},
   "source": [
    "15. Now, here will provide **Review and create** , basically setting the permissions,"
   ]
  },
  {
   "cell_type": "markdown",
   "id": "2cd72133",
   "metadata": {},
   "source": [
    "16. Do the final review and click on **Create user**"
   ]
  },
  {
   "cell_type": "markdown",
   "id": "a2c37f55",
   "metadata": {},
   "source": [
    "![create-user](images/aws_user/create-user-5.png)"
   ]
  },
  {
   "cell_type": "markdown",
   "id": "d10eff7a",
   "metadata": {},
   "source": [
    "17. Successfully created an *IAM* user.\n",
    "\n",
    "![create-uaser](images/aws_user/create-user-6.png)"
   ]
  },
  {
   "cell_type": "markdown",
   "id": "3bd798dd",
   "metadata": {},
   "source": []
  }
 ],
 "metadata": {
  "language_info": {
   "name": "python"
  }
 },
 "nbformat": 4,
 "nbformat_minor": 5
}
