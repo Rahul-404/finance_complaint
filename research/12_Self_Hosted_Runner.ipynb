{
 "cells": [
  {
   "cell_type": "markdown",
   "id": "385be877",
   "metadata": {},
   "source": [
    "# How to setup Self-Hosted Runner in your github repository ?"
   ]
  },
  {
   "cell_type": "markdown",
   "id": "ea76a23a",
   "metadata": {},
   "source": [
    "Self Hosted runners are managed environments, there you can run all your workflows, when we say workflow it means\n",
    "> .github/workflows/main.yaml  "
   ]
  },
  {
   "cell_type": "markdown",
   "id": "657480bd",
   "metadata": {},
   "source": [
    "in `main.yaml` we write jobs, which can be executed on the machine."
   ]
  },
  {
   "cell_type": "markdown",
   "id": "55d5f912",
   "metadata": {},
   "source": [
    "```\n",
    "name: workflow\n",
    "\n",
    "on:\n",
    "    push:\n",
    "        branches:\n",
    "            - main\n",
    "        paths-ignore:\n",
    "            - 'README.md'\n",
    "\n",
    "permissions:\n",
    "    id-toke: write\n",
    "    contents: read\n",
    "\n",
    "jobs:\n",
    "    integration:\n",
    "        name: Continuous Integration\n",
    "        runs-on: self-hosted\n",
    "        steps:\n",
    "            - name: Checkout Code\n",
    "              uses: actions/checkout@v3\n",
    "\n",
    "            - name: Lint code\n",
    "              run: 1\n",
    "\n",
    "            - name: Run unit tests\n",
    "              run: echo \"complete the github test\"\n",
    "```"
   ]
  },
  {
   "cell_type": "markdown",
   "id": "8d462c95",
   "metadata": {},
   "source": [
    "if we go to the `main.yaml`, will write jobs here which can be executed on the machine which we are creating as self-hoted runner."
   ]
  },
  {
   "cell_type": "markdown",
   "id": "56b25e58",
   "metadata": {},
   "source": [
    "Basically we are creating a server using **EC2** instance in cloud, using self hoted runner we are commanding it when ever a commit is made to code, and all the configurations of the machine are managed by us.\n",
    "all this is **Continuous Integration**"
   ]
  },
  {
   "cell_type": "markdown",
   "id": "5128d7d4",
   "metadata": {},
   "source": [
    "### Now, Let's see how we can configure it."
   ]
  },
  {
   "cell_type": "markdown",
   "id": "89d8ce3e",
   "metadata": {},
   "source": [
    "you can also follow this template [**github-actions-integration-template**](https://github.com/Rahul-404/github-actions-integration-template)"
   ]
  },
  {
   "cell_type": "markdown",
   "id": "b7823108",
   "metadata": {},
   "source": [
    "1. goto scripts\n",
    "\n",
    "2. goto `self-hoted.sh`"
   ]
  },
  {
   "cell_type": "markdown",
   "id": "659e5620",
   "metadata": {},
   "source": [
    "```bash\n",
    "\n",
    "## Docker install in ubuntu 22.04 lts\n",
    "sudo apt-get update\n",
    "sudo apt-get upgrade -y\n",
    "\n",
    "sudo apt install apt-transport-https ca-cartificates curl software-properties-common -y\n",
    "curl -fsSL https://download.docker.com/linux/ubuntu/gpg | sudo gpg --dearmor -o /usr/share/keyrings/docker-archive-keyring.gpg\n",
    "echo \"deb [arch=$(dpkg --print-architecture) signed-by=/usr/share/keyrings/docker-archive-keyring.gpg] https://download.docker.com/linux/ubuntu $(lsb_release -cs) stable\" | sudo t\n",
    "\n",
    "sudo apt update\n",
    "apt-cache policy docker-ce\n",
    "sudo apt install docker-ce -y\n",
    "sudo systemctl status docker\n",
    "\n",
    "# To install docker compose\n",
    "sudo apt install docker-compose\n",
    "\n",
    "# Add user into docker group\n",
    "sudo usermod -aG docker ubuntu/cloud\n",
    "newgrp docker\n",
    "\n",
    "## Aws cli installation\n",
    "curl \"https://awscli.amazonaws.com/awscli-exe-linux-x86_64.zip\" -o \"awscliv2.zip\"\n",
    "sudo apt install unzip\n",
    "unzip awscliv2.zip\n",
    "sudo ./aws/install\n",
    "\n",
    "## Github Runner configuration will start from here\n",
    "\n",
    "## Download \n",
    "mkdir actions-runner && cd actions-runner\n",
    "curl -o actions-runner-linux-x64-2.298.2.tar.gz -L https://github.com/actions/runner/releases/download/v2.298.2/actions-runner-linux-x64-2.298.2.tar.gz\n",
    "echo \"0bfd792196ce0ec6f1c65d2a9ad00215b2926ef2c416b8d97615265194477117  actions-runner-linux-x64-2.298.2.tar.gz\" | shasum -a 256 -c\n",
    "tar xzf ./actions-runner-linux-x64-2.298.2.tar.gz\n",
    "\n",
    "## Configuration Important\n",
    "./config.sh --url <url> --token <mention-you-token-here>\n",
    "./run.sh\n",
    "\n",
    "## Add Github runner as a service\n",
    "sudo ./svc.sh install\n",
    "sudo ./svc.sh start\n",
    "sudo ./svc.sh status\n",
    "\n",
    "## To stop the service\n",
    "sudo ./svc.sh stop\n",
    "sudo ./svc.sh uninstall\n",
    "```"
   ]
  },
  {
   "cell_type": "markdown",
   "id": "612a21bb",
   "metadata": {},
   "source": [
    "Go to **AWS EC2 Instance**  dashboard and start the already configured instance"
   ]
  },
  {
   "cell_type": "markdown",
   "id": "d4470805",
   "metadata": {},
   "source": [
    "![self-hosted](./images/self-hoted-runner/ec2-dashboard.png)"
   ]
  },
  {
   "cell_type": "markdown",
   "id": "02580eec",
   "metadata": {},
   "source": [
    "![self-hosted](./images/self-hoted-runner/self-hosted-1.png)"
   ]
  },
  {
   "cell_type": "markdown",
   "id": "bef359d3",
   "metadata": {},
   "source": [
    "Once the instance is running, will be having *instance state* **✅ Running**"
   ]
  },
  {
   "cell_type": "markdown",
   "id": "5255820a",
   "metadata": {},
   "source": [
    "Now we can connect to the machine, click on the **connect** button"
   ]
  },
  {
   "cell_type": "markdown",
   "id": "f4eb7a2b",
   "metadata": {},
   "source": [
    "![self-hosted](./images/self-hoted-runner/self-hosted-2.png)"
   ]
  },
  {
   "cell_type": "markdown",
   "id": "73b976a1",
   "metadata": {},
   "source": [
    "Again click on **connect**"
   ]
  },
  {
   "cell_type": "markdown",
   "id": "ebc66597",
   "metadata": {},
   "source": [
    "![self-hosted](./images/self-hoted-runner/self-hosted-3.png)"
   ]
  },
  {
   "cell_type": "markdown",
   "id": "b7f937c1",
   "metadata": {},
   "source": [
    "Once we click on **connect** button ,a EC2 management console open up's."
   ]
  },
  {
   "cell_type": "markdown",
   "id": "767dc168",
   "metadata": {},
   "source": [
    "![self-hosted](./images/self-hoted-runner/self-hosted-4.png)"
   ]
  },
  {
   "cell_type": "markdown",
   "id": "f7d6b4bc",
   "metadata": {},
   "source": [
    "Now clear the screen by typing **clear** in above instance screen"
   ]
  },
  {
   "cell_type": "markdown",
   "id": "342e7e5f",
   "metadata": {},
   "source": [
    "Now we have to do some configurations in the machine,\n",
    "\n",
    "Goto your project and  goto your repository, click on $\\text{Settings} \\longrightarrow \\text{Actions} \\longrightarrow \\text{Runner}$\n",
    "\n",
    "then click on **New self-hosted runner**"
   ]
  },
  {
   "cell_type": "markdown",
   "id": "b7e96e76",
   "metadata": {},
   "source": [
    "![self-hosted](./images/self-hoted-runner/self-hosted-5.png)"
   ]
  },
  {
   "cell_type": "markdown",
   "id": "08ef03f4",
   "metadata": {},
   "source": [
    "you will reach to below page"
   ]
  },
  {
   "cell_type": "markdown",
   "id": "af26f23b",
   "metadata": {},
   "source": [
    "![self-hosted](./images/self-hoted-runner/self-hosted-6.png)"
   ]
  },
  {
   "cell_type": "markdown",
   "id": "d7ba11c4",
   "metadata": {},
   "source": [
    "in runner image select $Linux$\n",
    "\n",
    "in Architecture select $x64$\n",
    "\n",
    "and follow the following instructions, run those instruction one-by-one in our **EC2 Instance** terminal which we opened earlier."
   ]
  },
  {
   "cell_type": "markdown",
   "id": "efb5517c",
   "metadata": {},
   "source": [
    "**Download** insturction"
   ]
  },
  {
   "cell_type": "markdown",
   "id": "158b8d5d",
   "metadata": {},
   "source": [
    "![self-hosted](./images/self-hoted-runner/self-hosted-8.png)"
   ]
  },
  {
   "cell_type": "markdown",
   "id": "97562b67",
   "metadata": {},
   "source": [
    "**Configure** instruction"
   ]
  },
  {
   "cell_type": "markdown",
   "id": "fe590d52",
   "metadata": {},
   "source": [
    "![self-hosted](./images/self-hoted-runner/self-hosted-9.png)"
   ]
  },
  {
   "cell_type": "markdown",
   "id": "6876c671",
   "metadata": {},
   "source": [
    "![self-hosted](./images/self-hoted-runner/self-hosted-10.png)"
   ]
  },
  {
   "cell_type": "markdown",
   "id": "046410ed",
   "metadata": {},
   "source": [
    "- We are using runner group **Default**\n",
    "\n",
    "- For the runner name `self-hosted`\n",
    "\n",
    "- Additional labels we are skipping by pressing **Enter**"
   ]
  },
  {
   "cell_type": "markdown",
   "id": "8a804d95",
   "metadata": {},
   "source": [
    "![self-hosted](./images/self-hoted-runner/self-hosted-11.png)"
   ]
  },
  {
   "cell_type": "markdown",
   "id": "1f23ca94",
   "metadata": {},
   "source": [
    "now the final command `./run.sh`"
   ]
  },
  {
   "cell_type": "markdown",
   "id": "4e25f637",
   "metadata": {},
   "source": [
    "![self-hosted](./images/self-hoted-runner/self-hosted-12.png)"
   ]
  },
  {
   "cell_type": "markdown",
   "id": "3ca6f6aa",
   "metadata": {},
   "source": [
    "Now **Github Actions** now configured, it's listening to the `Jobs`"
   ]
  },
  {
   "cell_type": "markdown",
   "id": "26809ceb",
   "metadata": {},
   "source": [
    "![self-hosted](./images/self-hoted-runner/self-hosted-13.png)"
   ]
  },
  {
   "cell_type": "markdown",
   "id": "8d9855f5",
   "metadata": {},
   "source": [
    "Now **Runners** are *✅ Idle*"
   ]
  },
  {
   "cell_type": "markdown",
   "id": "a23c2485",
   "metadata": {},
   "source": [
    "Now it requires my credential to access and do changes with trigger to images, so will authenticate with credentials"
   ]
  },
  {
   "cell_type": "markdown",
   "id": "038ed3e9",
   "metadata": {},
   "source": [
    "**Setup github secrets:**\n",
    "\n",
    "```\n",
    "AWS_ACCESS_KEY_TO = <aws-access-key>\n",
    "\n",
    "AWC_SECRET_ACCESS_KEY = <aws-secret-access-key>\n",
    "\n",
    "AWS_REGION = <aws-region>\n",
    "\n",
    "AWS_ECR_LOGIN_URI = <aws-ecr-login-uri>\n",
    "\n",
    "ECR_REPOSITORY_NAME = <name-of-repo> \n",
    "```\n",
    "\n"
   ]
  },
  {
   "cell_type": "markdown",
   "id": "e0e5be49",
   "metadata": {},
   "source": [
    "to add this secrets goto following path $\\text{Settings} \\longrightarrow \\text{Secrets and variables} \\longrightarrow \\text{Actions} \\longrightarrow \\text{Repository secrets} \\longrightarrow \\text{New repository secret}$"
   ]
  },
  {
   "cell_type": "markdown",
   "id": "58ae95c1",
   "metadata": {},
   "source": [
    "![self-hosted](./images/self-hoted-runner/self-hosted-14.png)"
   ]
  },
  {
   "cell_type": "markdown",
   "id": "d7b44936",
   "metadata": {},
   "source": [
    "Here add name of out secret in **Name** and secret key in **Secret** "
   ]
  },
  {
   "cell_type": "markdown",
   "id": "f0431b4d",
   "metadata": {},
   "source": [
    "$Q.$ Where will get the secrets ?\n",
    "\n",
    "$\\longrightarrow$ we donloaded a one access key while creating the *IAM* user, there we have Access key (`AWS_ACCESS_KEY_TO`), and Secret access ID (`AWC_SECRET_ACCESS_KEY`)\n",
    "\n",
    "Now aws region can be found on aws dashboard (`AWS_REGION`)"
   ]
  },
  {
   "cell_type": "markdown",
   "id": "df67b7ef",
   "metadata": {},
   "source": [
    "![self-hosted](./images/self-hoted-runner/self-hosted-15.png)"
   ]
  },
  {
   "cell_type": "markdown",
   "id": "16186486",
   "metadata": {},
   "source": [
    "for `AWS_ECR_LOGIN_URI` use ECR repo link till <12-digit-number>.dkr.ecr.<region-name>.amazononaws.com skip the repository name i.e `production/customer-segmentation`."
   ]
  },
  {
   "cell_type": "markdown",
   "id": "3e969d86",
   "metadata": {},
   "source": [
    "![self-hosted](./images/self-hoted-runner/self-hosted-16.png)"
   ]
  },
  {
   "cell_type": "markdown",
   "id": "413dae22",
   "metadata": {},
   "source": [
    "now infally `ECR_REPOSITORY_NAME` it will the repository name here 'production/customer-segmentation'"
   ]
  },
  {
   "cell_type": "markdown",
   "id": "0332bd2a",
   "metadata": {},
   "source": [
    "Now you can start the deployment my making any commit to the repo, it will directly trigger the CI/CD pipeline and dockerize the project"
   ]
  },
  {
   "cell_type": "markdown",
   "id": "556e7dd7",
   "metadata": {},
   "source": []
  }
 ],
 "metadata": {
  "language_info": {
   "name": "python"
  }
 },
 "nbformat": 4,
 "nbformat_minor": 5
}
