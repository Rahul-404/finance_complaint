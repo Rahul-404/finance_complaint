{
 "cells": [
  {
   "cell_type": "markdown",
   "id": "c2e26ea0",
   "metadata": {},
   "source": [
    "# How to create EC2 instance in AWS ?"
   ]
  },
  {
   "cell_type": "markdown",
   "id": "7728d273",
   "metadata": {},
   "source": [
    "1. Navigate to the **EC2** in *aws dashboard*"
   ]
  },
  {
   "cell_type": "markdown",
   "id": "29aeb097",
   "metadata": {},
   "source": [
    "![create-ec2](images/aws_ec2/EC2-navigation.png)"
   ]
  },
  {
   "cell_type": "markdown",
   "id": "1818f87e",
   "metadata": {},
   "source": [
    "2. This page will open, click on **Launch Instances**"
   ]
  },
  {
   "cell_type": "markdown",
   "id": "73ce04f9",
   "metadata": {},
   "source": [
    "![create-ec2](images/aws_ec2/create-ec2-1.png)"
   ]
  },
  {
   "cell_type": "markdown",
   "id": "843e520d",
   "metadata": {},
   "source": [
    "3. Once we click on **Launch instances**, AWS console will take us to the **Launch an instance** page, its there in *EC2* $\\rightarrow$ *Instances* $\\rightarrow$ *Launch an Instance* "
   ]
  },
  {
   "cell_type": "markdown",
   "id": "db2236c5",
   "metadata": {},
   "source": [
    "![create-ec2](images/aws_ec2/create-ec2-2.png)"
   ]
  },
  {
   "cell_type": "markdown",
   "id": "132c27b5",
   "metadata": {},
   "source": [
    "**Name and tags:**\n",
    "\n",
    "- give name to the machine (will set *'sample-ec2'*)\n",
    "\n",
    "**Application and OS Images:**\n",
    "\n",
    "- here we have bunch of options, will go with **Ubuntu**\n",
    "\n",
    "- there are different types with the **Ubuntu**, can select according to your need\n",
    "\n",
    "**Architechture:**\n",
    "\n",
    "- select: 64-bit(x86)"
   ]
  },
  {
   "cell_type": "markdown",
   "id": "c10a30b7",
   "metadata": {},
   "source": [
    "![create-ec2](images/aws_ec2/create-ec2-3.png)"
   ]
  },
  {
   "cell_type": "markdown",
   "id": "f13424cb",
   "metadata": {},
   "source": [
    "**Instance Type:**\n",
    "\n",
    "- select according to need (will select *t2.micro*)\n",
    "\n",
    "**Key pair(login)**\n",
    "\n",
    "- we will use this key pair to log-in from anywhere, will create new one here "
   ]
  },
  {
   "cell_type": "markdown",
   "id": "0abe6b42",
   "metadata": {},
   "source": [
    "![create-ec2](images/aws_ec2/create-ec2-4.png)"
   ]
  },
  {
   "cell_type": "markdown",
   "id": "abb2213f",
   "metadata": {},
   "source": [
    "![create-ec2](images/aws_ec2/create-ec2-5.png)"
   ]
  },
  {
   "cell_type": "markdown",
   "id": "6bebfd5b",
   "metadata": {},
   "source": [
    "- naming *key pair name* as \"sample-ec2\"\n",
    "- keep key pair type **RSA**\n",
    "- **Private key file format** as *.pem* format\n",
    "\n",
    "4. click on **Create key pair**, it will start downloading the key, save it for later use"
   ]
  },
  {
   "cell_type": "markdown",
   "id": "8130688a",
   "metadata": {},
   "source": [
    "![create-ec2](images/aws_ec2/create-ec2-6.png)"
   ]
  },
  {
   "cell_type": "markdown",
   "id": "fdb43357",
   "metadata": {},
   "source": [
    "5. Now we have some network settings:\n",
    "    - we can create new security group\n",
    "    - also can use existing one\n",
    "\n",
    "we will select **existing one**, in that will choose **default** settings."
   ]
  },
  {
   "cell_type": "markdown",
   "id": "7d03a5d6",
   "metadata": {},
   "source": [
    "![create-ec2](images/aws_ec2/create-ec2-7.png)"
   ]
  },
  {
   "cell_type": "markdown",
   "id": "17ba91dc",
   "metadata": {},
   "source": [
    "6. Now, next is to select **Configure storage**\n",
    "    - for now we are keeping it 15GB with *gp3* which is half to our free tier\n",
    "\n",
    "✅ AWS Free Tier for EBS Includes:\n",
    "> 30 GB of EBS storage (any combination of gp2, gp3, sc1, or st1) per month for free.\n",
    "That means:\n",
    "\n",
    "- You can use up to 30 GB total — split across one or multiple volumes.\n",
    "- You can choose gp2 or gp3 — both are covered.\n",
    "- **No extra charge** as long as total usage is ≤ 30 GB."
   ]
  },
  {
   "cell_type": "markdown",
   "id": "23283a9f",
   "metadata": {},
   "source": [
    "![create-ec2](images/aws_ec2/create-ec2-8.png)"
   ]
  },
  {
   "cell_type": "markdown",
   "id": "16830f83",
   "metadata": {},
   "source": [
    "7. Skipping the **Advanced details** options"
   ]
  },
  {
   "cell_type": "markdown",
   "id": "fc306adb",
   "metadata": {},
   "source": [
    "8. click on **Launch instance** to launch machine"
   ]
  },
  {
   "cell_type": "markdown",
   "id": "0f3337b3",
   "metadata": {},
   "source": [
    "![create-ec2](images/aws_ec2/create-ec2-9.png)"
   ]
  },
  {
   "cell_type": "markdown",
   "id": "0ec804e2",
   "metadata": {},
   "source": [
    "As you can see, it has launched the EC2 instance machine"
   ]
  },
  {
   "cell_type": "markdown",
   "id": "222d61c5",
   "metadata": {},
   "source": [
    "![create-ec2](images/aws_ec2/create-ec2-10.png)"
   ]
  },
  {
   "cell_type": "markdown",
   "id": "4becc6b0",
   "metadata": {},
   "source": [
    "instance has been launched successfully!"
   ]
  },
  {
   "cell_type": "markdown",
   "id": "83a67e3c",
   "metadata": {},
   "source": [
    "9. click on **connect** to connect to the instance, there are multiple ways to connect to instance\n",
    "\n",
    "    - EC2 Instance Connect\n",
    "    - Session Manager\n",
    "    - SSH client\n",
    "    - EC2 serial console"
   ]
  },
  {
   "cell_type": "markdown",
   "id": "9af28e6a",
   "metadata": {},
   "source": [
    "![create-ec2](images/aws_ec2/create-ec2-11.png)"
   ]
  },
  {
   "cell_type": "markdown",
   "id": "e6d70db6",
   "metadata": {},
   "source": [
    "- will go with **EC2 instance connect**, and click on **connect** button."
   ]
  },
  {
   "cell_type": "markdown",
   "id": "01612d3c",
   "metadata": {},
   "source": [
    "Here we learned how launch a EC2 instance and our own server"
   ]
  },
  {
   "cell_type": "markdown",
   "id": "8ab90a38",
   "metadata": {},
   "source": []
  }
 ],
 "metadata": {
  "language_info": {
   "name": "python"
  }
 },
 "nbformat": 4,
 "nbformat_minor": 5
}
