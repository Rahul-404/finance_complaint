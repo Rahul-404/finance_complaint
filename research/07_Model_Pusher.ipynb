{
 "cells": [
  {
   "cell_type": "code",
   "execution_count": null,
   "id": "05559737",
   "metadata": {},
   "outputs": [],
   "source": [
    "import os"
   ]
  },
  {
   "cell_type": "code",
   "execution_count": null,
   "id": "f5ff3546",
   "metadata": {},
   "outputs": [],
   "source": [
    "%pwd"
   ]
  },
  {
   "cell_type": "code",
   "execution_count": null,
   "id": "3a356476",
   "metadata": {},
   "outputs": [],
   "source": [
    "os.chdir(\"../\")"
   ]
  },
  {
   "cell_type": "code",
   "execution_count": null,
   "id": "c32b06ec",
   "metadata": {},
   "outputs": [],
   "source": [
    "%pwd"
   ]
  },
  {
   "cell_type": "markdown",
   "id": "64d6c6e6",
   "metadata": {},
   "source": [
    "## config_entity.py"
   ]
  },
  {
   "cell_type": "code",
   "execution_count": 1,
   "id": "0124ac8e",
   "metadata": {},
   "outputs": [
    {
     "name": "stdout",
     "output_type": "stream",
     "text": [
      "Reading environment variables\n",
      "Read Complete!\n"
     ]
    }
   ],
   "source": [
    "from dataclasses import dataclass\n",
    "from finance_complaint.entity.config_entity import TrainingPipelineConfig\n",
    "from finance_complaint.exception import FinanceException\n",
    "from finance_complaint.logger import logging as logger\n",
    "import os, sys"
   ]
  },
  {
   "cell_type": "code",
   "execution_count": 2,
   "id": "79104c20",
   "metadata": {},
   "outputs": [],
   "source": [
    "MODEL_TRAINER_MODEL_NAME = \"finance_estimator\"\n",
    "\n",
    "# Model Pusher Constants\n",
    "MODEL_PUSHER_SAVED_MODEL_DIRS = \"saved_models\"\n",
    "MODEL_PUSHER_DIR = \"model_pusher\"\n",
    "MODEL_PUSHER_MODEL_NAME = MODEL_TRAINER_MODEL_NAME"
   ]
  },
  {
   "cell_type": "code",
   "execution_count": 6,
   "id": "a4e8b1cb",
   "metadata": {},
   "outputs": [],
   "source": [
    "@dataclass\n",
    "class ModelPusherConfig:\n",
    "\n",
    "    def __init__(self, training_pipeline_config: TrainingPipelineConfig) :\n",
    "        try:\n",
    "            self.pusher_model_dir = os.path.join(training_pipeline_config.artifact_dir, MODEL_PUSHER_DIR, \"model\", MODEL_PUSHER_MODEL_NAME)\n",
    "            self.saved_model_dir = MODEL_PUSHER_SAVED_MODEL_DIRS\n",
    "        except Exception as e:\n",
    "            raise FinanceException(e, sys)"
   ]
  },
  {
   "cell_type": "markdown",
   "id": "066352aa",
   "metadata": {},
   "source": [
    "## artifact_entity.py"
   ]
  },
  {
   "cell_type": "code",
   "execution_count": 7,
   "id": "03ad2899",
   "metadata": {},
   "outputs": [],
   "source": [
    "@dataclass\n",
    "class ModelPusherArtifact:\n",
    "    model_pushed_dir: str\n",
    "    saved_model_dir: str"
   ]
  },
  {
   "cell_type": "markdown",
   "id": "b7318efa",
   "metadata": {},
   "source": [
    "## model_pusher.py"
   ]
  },
  {
   "cell_type": "code",
   "execution_count": 5,
   "id": "1bcf2077",
   "metadata": {},
   "outputs": [],
   "source": [
    "import sys\n",
    "import os\n",
    "\n",
    "from finance_complaint.exception import FinanceException\n",
    "from finance_complaint.logger import logging as  logger\n",
    "\n",
    "# from finance_complaint.entity.config_entity import ModelPusherConfig\n",
    "from finance_complaint.entity.artifact_entity import ModelTrainerArtifact#, ModelPusherArtifact\n",
    "\n",
    "from finance_complaint.ml.estimator import ModelResolver\n",
    "\n",
    "from pyspark.ml.pipeline import PipelineModel"
   ]
  },
  {
   "cell_type": "code",
   "execution_count": 8,
   "id": "f15b9d08",
   "metadata": {},
   "outputs": [],
   "source": [
    "class ModelPusher:\n",
    "\n",
    "    def __init__(self, model_trainer_artifact: ModelTrainerArtifact, model_pusher_config: ModelPusherConfig):\n",
    "        self.model_trainer_artifact = model_trainer_artifact\n",
    "        self.model_pusher_config = model_pusher_config\n",
    "        self.model_resolver = ModelResolver(model_dir=self.model_pusher_config.saved_model_dir)\n",
    "\n",
    "    def push_model(self) -> str:\n",
    "        try:\n",
    "            trained_model_path=self.model_trainer_artifact.model_trainer_ref_artifact.trained_model_file_path\n",
    "            saved_model_path = self.model_resolver.get_save_model_path\n",
    "            model = PipelineModel.load(trained_model_path)\n",
    "            model.save(saved_model_path)\n",
    "            model.save(self.model_pusher_config.pusher_model_dir)\n",
    "            return saved_model_path\n",
    "        except Exception as e:\n",
    "            raise FinanceException(e, sys)\n",
    "\n",
    "    def initiate_model_pusher(self) -> ModelPusherArtifact:\n",
    "        try:\n",
    "            saved_model_path = self.push_model()\n",
    "            model_pusher_artifact = ModelPusherArtifact(model_pushed_dir=self.model_pusher_config.pusher_model_dir,\n",
    "                                    saved_model_dir=saved_model_path)\n",
    "            logger.info(f\"Model pusher artifact: {model_pusher_artifact}\")\n",
    "            return model_pusher_artifact\n",
    "        except Exception as e:\n",
    "            raise FinanceException(e, sys)\n",
    "        \n"
   ]
  },
  {
   "cell_type": "markdown",
   "id": "7a7c4294",
   "metadata": {},
   "source": [
    "## training.py"
   ]
  },
  {
   "cell_type": "code",
   "execution_count": 11,
   "id": "d2cfc204",
   "metadata": {},
   "outputs": [],
   "source": [
    "from finance_complaint.exception import FinanceException\n",
    "from finance_complaint.logger import logging as logger\n",
    "from finance_complaint.entity.schema import FinanceDataSchema\n",
    "\n",
    "from finance_complaint.entity.config_entity import (DataIngestionConfig, \n",
    "                                                    DataValidationConfig,\n",
    "                                                    DataTransformationConfig,\n",
    "                                                    ModelTrainerConfig,\n",
    "                                                    ModelEvaluationConfig)\n",
    "from finance_complaint.entity.artifact_entity import (DataIngestionArtifact,\n",
    "                                                      DataValidationArtifact,\n",
    "                                                      DataTransformationArtifact,\n",
    "                                                      ModelTrainerArtifact,\n",
    "                                                      ModelEvaluationArtifact)\n",
    "\n",
    "from finance_complaint.components.data_ingestion import DataIngestion\n",
    "from finance_complaint.components.data_validation import DataValidation\n",
    "from finance_complaint.components.data_transformation import DataTransformation\n",
    "from finance_complaint.components.model_trainer import ModelTrainer\n",
    "from finance_complaint.components.model_evalutaion import ModelEvaluation\n",
    "\n",
    "import sys, os\n"
   ]
  },
  {
   "cell_type": "code",
   "execution_count": 13,
   "id": "47f12b71",
   "metadata": {},
   "outputs": [],
   "source": [
    "class TrainingPipeline:\n",
    "    \"\"\" \n",
    "    this is a training pipeline comprising each components from flow chart\n",
    "    \"\"\"\n",
    "    def __init__(self, training_pipeline_config: TrainingPipelineConfig):\n",
    "        self.training_pipeline_config: TrainingPipelineConfig = training_pipeline_config\n",
    "\n",
    "    def start_data_ingestion(self) -> DataIngestionArtifact:\n",
    "        \"\"\"\n",
    "        responsible for starting data ingestion \n",
    "        \"\"\"\n",
    "        try:\n",
    "            data_ingestion_config = DataIngestionConfig(training_pipeline_config=self.training_pipeline_config)\n",
    "            data_ingestion = DataIngestion(data_ingestion_config=data_ingestion_config)\n",
    "            data_ingestion_artifact = data_ingestion.initiate_data_ingestion()\n",
    "            return data_ingestion_artifact\n",
    "        \n",
    "        except Exception as e:\n",
    "            logger.debug(f\"Error: {e}\")\n",
    "            raise FinanceException(e, sys)\n",
    "        \n",
    "    def start_data_validation(self, data_ingestion_artifact: DataIngestionArtifact) -> DataValidationArtifact:\n",
    "        \"\"\"\n",
    "        takes ingested data artifact and validate that data by generating validation artifact\n",
    "        \"\"\"\n",
    "        try:\n",
    "            data_validation_config = DataValidationConfig(training_pipeline_config=self.training_pipeline_config)\n",
    "            data_validation = DataValidation(\n",
    "                data_validation_config=data_validation_config,\n",
    "                data_ingestion_artifact=data_ingestion_artifact\n",
    "            )\n",
    "            data_validation_artifact = data_validation.initiate_data_validation()\n",
    "            return data_validation_artifact\n",
    "        except Exception as e:\n",
    "            raise FinanceException(e, sys)\n",
    "        \n",
    "    def start_data_transformation(self, data_validation_artifact: DataValidationArtifact) -> DataTransformationArtifact:\n",
    "        \"\"\" \n",
    "        responsible for data transformation \n",
    "        \"\"\"\n",
    "        try:\n",
    "            data_transformation_config = DataTransformationConfig(training_pipeline_config=self.training_pipeline_config)\n",
    "            data_transformation = DataTransformation(data_validation_artifact=data_validation_artifact,\n",
    "                                                     data_transformation_config=data_transformation_config)\n",
    "            \n",
    "            data_transformation_artifacts = data_transformation.initiate_data_transformation()\n",
    "            return data_transformation_artifacts\n",
    "        except Exception as e:\n",
    "            raise FinanceException(e, sys)\n",
    "        \n",
    "    def start_model_trainer(self, data_transformation_artifact: DataTransformationArtifact) -> ModelTrainerArtifact:\n",
    "        try:\n",
    "            model_trainer_config = ModelTrainerConfig(training_pipeline_config=self.training_pipeline_config)\n",
    "            model_trainer = ModelTrainer(data_transformation_artifact=data_transformation_artifact,\n",
    "                                         model_trainer_config=model_trainer_config)\n",
    "            model_trainer_artifact = model_trainer.initiate_model_training()\n",
    "\n",
    "            return model_trainer_artifact\n",
    "        except Exception as e:\n",
    "            raise FinanceException(e, sys)\n",
    "        \n",
    "    def start_model_evaluation(self, data_validation_artifact, model_trainer_artifact) -> ModelEvaluationArtifact:\n",
    "        try:\n",
    "            model_eval_config = ModelEvaluationConfig(training_pipeline_config=self.training_pipeline_config)\n",
    "            model_eval = ModelEvaluation(data_validation_artifact=data_validation_artifact,\n",
    "                                        model_trainer_artifact=model_trainer_artifact,\n",
    "                                        model_eval_config=model_eval_config\n",
    "                                        )\n",
    "            return model_eval.initiate_model_evaluation()\n",
    "        except Exception as e:\n",
    "            raise FinanceException(e, sys)\n",
    "        \n",
    "    def start_model_pusher(self, model_trainer_artifact: ModelTrainerArtifact):\n",
    "        try:\n",
    "\n",
    "\n",
    "            model_pusher_config = ModelPusherConfig(training_pipeline_config=self.training_pipeline_config)\n",
    "            model_pusher = ModelPusher(model_trainer_artifact=model_trainer_artifact,\n",
    "                                       model_pusher_config=model_pusher_config\n",
    "                                       )\n",
    "            return model_pusher.initiate_model_pusher()\n",
    "        except Exception as e:\n",
    "            raise FinanceException(e, sys)\n",
    "\n",
    "\n",
    "        \n",
    "    def start(self):\n",
    "        try:\n",
    "            # initalizating data ingestion\n",
    "            data_ingestion_artifact = self.start_data_ingestion()\n",
    "            # initalizing data validation\n",
    "            data_validation_artifact = self.start_data_validation(data_ingestion_artifact=data_ingestion_artifact)\n",
    "            # initalizing data transformation\n",
    "            data_transformation_artifact = self.start_data_transformation(data_validation_artifact=data_validation_artifact)\n",
    "            # initalizing model training\n",
    "            model_trainer_artifact = self.start_model_trainer(data_transformation_artifact=data_transformation_artifact)\n",
    "            # initalizing model evaluation\n",
    "            model_eval_artifact = self.start_model_evaluation(data_validation_artifact=data_validation_artifact,\n",
    "                                                              model_trainer_artifact=model_trainer_artifact\n",
    "                                                              )\n",
    "            # initalizing model pusher\n",
    "            if model_eval_artifact.model_accepted:\n",
    "                self.start_model_pusher(model_trainer_artifact=model_trainer_artifact)\n",
    "\n",
    "        except Exception as e:\n",
    "            raise FinanceException(e, sys)    \n",
    "        \n"
   ]
  },
  {
   "cell_type": "markdown",
   "id": "db444cd5",
   "metadata": {},
   "source": [
    "## train.py"
   ]
  },
  {
   "cell_type": "code",
   "execution_count": null,
   "id": "602c0cc8",
   "metadata": {},
   "outputs": [],
   "source": [
    "from finance_complaint.pipeline.training import TrainingPipeline\n",
    "# from finance_complaint.entity.config_entity import TrainingPipelineConfig\n",
    "\n",
    "if __name__ == \"__main__\":\n",
    "    training_pipeline_config = TrainingPipelineConfig()\n",
    "    training_pipeline = TrainingPipeline(training_pipeline_config=training_pipeline_config)\n",
    "    training_pipeline.start()"
   ]
  }
 ],
 "metadata": {
  "kernelspec": {
   "display_name": "Python 3",
   "language": "python",
   "name": "python3"
  },
  "language_info": {
   "codemirror_mode": {
    "name": "ipython",
    "version": 3
   },
   "file_extension": ".py",
   "mimetype": "text/x-python",
   "name": "python",
   "nbconvert_exporter": "python",
   "pygments_lexer": "ipython3",
   "version": "3.13.2"
  }
 },
 "nbformat": 4,
 "nbformat_minor": 5
}
