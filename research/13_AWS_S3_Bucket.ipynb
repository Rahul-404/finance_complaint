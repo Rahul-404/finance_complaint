{
 "cells": [
  {
   "cell_type": "markdown",
   "id": "d837d03e",
   "metadata": {},
   "source": [
    "# How to create S3 Bucket in aws cloud ?"
   ]
  },
  {
   "cell_type": "markdown",
   "id": "fd0550b5",
   "metadata": {},
   "source": [
    "1. Navigate to the **S3 Bucket** in *aws dashboard*"
   ]
  },
  {
   "cell_type": "markdown",
   "id": "47368933",
   "metadata": {},
   "source": [
    "![s3-buckt](./images/s3-bucket/S3-navigation.png)"
   ]
  },
  {
   "cell_type": "markdown",
   "id": "a6972851",
   "metadata": {},
   "source": [
    "2. This page will opens, this is **S3 Dashbosrd** click on **Create bucket**"
   ]
  },
  {
   "cell_type": "markdown",
   "id": "ea957c39",
   "metadata": {},
   "source": [
    "![s3-buckt](./images/s3-bucket/s3-bucket-1.png)"
   ]
  },
  {
   "cell_type": "markdown",
   "id": "20b90fa6",
   "metadata": {},
   "source": [
    "Once you click on the *Create bucket* button, you will navigate to the **Create bucket** page"
   ]
  },
  {
   "cell_type": "markdown",
   "id": "4f8c9d63",
   "metadata": {},
   "source": [
    "![s3-buckt](./images/s3-bucket/s3-bucket-2.png)"
   ]
  },
  {
   "cell_type": "markdown",
   "id": "064bc0e0",
   "metadata": {},
   "source": [
    "**General configuration**\n",
    "\n",
    "**Bucket Type:**\n",
    "\n",
    "- General purpose - general purpose bucket, with mixed storage, across multiple regions \n",
    "- Directory - zone dedicated for low-latency use cases\n",
    "\n",
    "will select **General purpose**\n",
    "\n",
    "**Bucket Name**\n",
    "\n",
    "- it should be unqiue across global namsespace. will keep *bucket-123-321*"
   ]
  },
  {
   "cell_type": "markdown",
   "id": "cfc9bfba",
   "metadata": {},
   "source": [
    "![s3-buckt](./images/s3-bucket/s3-bucket-3.png)"
   ]
  },
  {
   "cell_type": "markdown",
   "id": "24853e38",
   "metadata": {},
   "source": [
    "**Object Ownership**\n",
    "\n",
    "want other aws accounts to available to access or not\n",
    "\n",
    "- ACLs disabled : Not Allowed\n",
    "\n",
    "- ACLs enabled : Allowed"
   ]
  },
  {
   "cell_type": "markdown",
   "id": "0de30529",
   "metadata": {},
   "source": [
    "**Block Public Access settings for this bucket**\n",
    "\n",
    "Public access is granted or not, we are not provided public access, will tick the checkbox (Blocing all public access)"
   ]
  },
  {
   "cell_type": "markdown",
   "id": "64e0be3d",
   "metadata": {},
   "source": [
    "![s3-buckt](./images/s3-bucket/s3-bucket-4.png)"
   ]
  },
  {
   "cell_type": "markdown",
   "id": "88a18d65",
   "metadata": {},
   "source": [
    "**Bucket Versioning**\n",
    "\n",
    "if we have object in bucket and want it into versions\n",
    "\n",
    "**Note:** if we bucket has a model, and if we create new model with same name and push it to S3, it will create model in versions"
   ]
  },
  {
   "cell_type": "markdown",
   "id": "8bbd306b",
   "metadata": {},
   "source": [
    "**Tags - optional**\n",
    "\n",
    "optinal tags to model"
   ]
  },
  {
   "cell_type": "markdown",
   "id": "4cafa6a6",
   "metadata": {},
   "source": [
    "**Default encryption**\n",
    "\n",
    "Server-side encryption is automatically applied to new objects stored in this bucket."
   ]
  },
  {
   "cell_type": "markdown",
   "id": "ee32979c",
   "metadata": {},
   "source": [
    "![s3-buckt](./images/s3-bucket/s3-bucket-5.png)"
   ]
  },
  {
   "cell_type": "markdown",
   "id": "fa08e55e",
   "metadata": {},
   "source": [
    "**Advanced settings**\n",
    "\n",
    "- **Object Lock**\n",
    "    - locking the objects existance in S3"
   ]
  },
  {
   "cell_type": "markdown",
   "id": "5c6fee86",
   "metadata": {},
   "source": [
    "then click on **create bucket** button to create a s3 bucket"
   ]
  },
  {
   "cell_type": "markdown",
   "id": "bbbcd14c",
   "metadata": {},
   "source": [
    "![s3-buckt](./images/s3-bucket/s3-bucket-6.png)"
   ]
  },
  {
   "cell_type": "markdown",
   "id": "ab2d5e16",
   "metadata": {},
   "source": []
  }
 ],
 "metadata": {
  "language_info": {
   "name": "python"
  }
 },
 "nbformat": 4,
 "nbformat_minor": 5
}
