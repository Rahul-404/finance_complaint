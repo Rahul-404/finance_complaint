{
 "cells": [
  {
   "cell_type": "markdown",
   "id": "fb9c26a3",
   "metadata": {},
   "source": [
    "# Continuous Training "
   ]
  },
  {
   "cell_type": "markdown",
   "id": "3e69a267",
   "metadata": {},
   "source": [
    "### Overview\n",
    "\n",
    "Once we are done with **ML Developement** , As per the **ML Ops** we need to implement continuous training \n",
    "\n",
    "Now we'll be able to traing the model continuously as soon as data updates.\n",
    "\n",
    "data is in *MongoDB* and we have *training pipeline* which will create a *save model* folder to save generate model.\n",
    "\n",
    "every time to generate this we are running a python script `python <py-script>.py`"
   ]
  },
  {
   "cell_type": "markdown",
   "id": "06ecde2f",
   "metadata": {},
   "source": [
    "if we have to train model on cloud we have to do this manually on cloud that is called **continuous training**\n",
    "\n",
    "What we are going to do here is that we are going to schedule the pipeline using **Airflow** which is shown below:\n"
   ]
  },
  {
   "cell_type": "markdown",
   "id": "7cf7bacb",
   "metadata": {},
   "source": [
    "![cicd](./images/cicd.jpg)"
   ]
  },
  {
   "cell_type": "markdown",
   "id": "d47cb2b4",
   "metadata": {},
   "source": [
    "$Q.$ What is Airflow ?\n",
    "\n",
    "$\\longrightarrow$ Airflow is scheduler, using which we can schedule a any script or any code that we want run. using airflow we are going to schedule our pipeline\n",
    "\n",
    "Example: i want to schedule my pipeline on weekly basis, i want it to trigger on weekly basis, we should have ETL pipline to gather data on weekly basis once the collection for week is done, the *training pipeline* should get triggered and training should start, so will be having $\\text{old data} + \\text{new data}$ both data will be combined and training should happen, if our newly trained model have more accuracy that existing one it should replace exixting one with new one (for this we have **Model Resolver**, it will able to locate the path of new model). will set our training pipeline on weekly basis, on every **sunday**, sunday is right time.\n",
    "\n",
    "In **ML Ops** $\\text{Code} + \\text{Data}$ goes in hand  in hand, if we change $\\text{Code}$ then we have to train the model and also if we change $\\text{Data}$ then again we have to train the model.\n",
    "\n",
    "we will schedule batch prediction and model training."
   ]
  },
  {
   "cell_type": "markdown",
   "id": "c8635f9a",
   "metadata": {},
   "source": []
  }
 ],
 "metadata": {
  "language_info": {
   "name": "python"
  }
 },
 "nbformat": 4,
 "nbformat_minor": 5
}
