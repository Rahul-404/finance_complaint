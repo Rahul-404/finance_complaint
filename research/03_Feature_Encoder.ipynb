{
 "cells": [
  {
   "cell_type": "code",
   "execution_count": 1,
   "metadata": {},
   "outputs": [],
   "source": [
    "from pyspark import keyword_only\n",
    "from pyspark.ml import Transformer\n",
    "from pyspark.ml.param.shared import Param, Params, TypeConverters, HasOutputCols, HasInputCols\n",
    "from pyspark.ml.util import DefaultParamsReadable, DefaultParamsWritable\n",
    "from pyspark.ml import Estimator\n",
    "from pyspark.sql import DataFrame\n",
    "from pyspark.sql.functions import desc\n",
    "from pyspark.sql.functions import col, abs\n",
    "from typing import List\n",
    "from pyspark.sql.types import TimestampType, LongType\n",
    "from finance_complaint.logger import logging as logger\n",
    "from finance_complaint.config.spark_manager import spark_session"
   ]
  },
  {
   "cell_type": "code",
   "execution_count": 2,
   "metadata": {},
   "outputs": [
    {
     "ename": "SyntaxError",
     "evalue": "expected argument value expression (105743999.py, line 11)",
     "output_type": "error",
     "traceback": [
      "\u001b[0;36m  Cell \u001b[0;32mIn[2], line 11\u001b[0;36m\u001b[0m\n\u001b[0;31m    self._setDefault(frequencyInfo=)\u001b[0m\n\u001b[0m                     ^\u001b[0m\n\u001b[0;31mSyntaxError\u001b[0m\u001b[0;31m:\u001b[0m expected argument value expression\n"
     ]
    }
   ],
   "source": [
    "class FrequencyEncoder(Estimator, HasInputCols, HasOutputCols,\n",
    "                       DefaultParamsReadable, DefaultParamsWritable):\n",
    "    frequencyInfo = Param(Params._dummy(), \"getfrequencyInfo\", \"getfrequencyInfo\",\n",
    "                          typeConverter=TypeConverters.toList)\n",
    "    @keyword_only\n",
    "    def __init__(self, inputCols: List[str] = None, outputCols:List[str] = None,):\n",
    "        super(FrequencyEncoder, self).__init__()\n",
    "        kwargs = self._input_kwargs\n",
    "\n",
    "        self.frequencyInfo = Param(self, \"frequencyInfo\", \"\")\n",
    "        self._setDefault(frequencyInfo=\"\")\n",
    "        #self._set(**kwargs)\n",
    "\n",
    "        self.setParams(**kwargs)\n",
    "\n",
    "    @keyword_only\n",
    "    def setParams(self, inputCols: List[str] = None, outputCols: List[str] = None,):\n",
    "        kwargs = self._"
   ]
  },
  {
   "cell_type": "code",
   "execution_count": null,
   "metadata": {},
   "outputs": [],
   "source": [
    "\"\""
   ]
  }
 ],
 "metadata": {
  "kernelspec": {
   "display_name": "Python 3",
   "language": "python",
   "name": "python3"
  },
  "language_info": {
   "codemirror_mode": {
    "name": "ipython",
    "version": 3
   },
   "file_extension": ".py",
   "mimetype": "text/x-python",
   "name": "python",
   "nbconvert_exporter": "python",
   "pygments_lexer": "ipython3",
   "version": "3.12.8"
  }
 },
 "nbformat": 4,
 "nbformat_minor": 2
}
