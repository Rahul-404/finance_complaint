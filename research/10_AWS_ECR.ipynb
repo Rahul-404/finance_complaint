{
 "cells": [
  {
   "cell_type": "markdown",
   "id": "0724f4bd",
   "metadata": {},
   "source": [
    "# How to create ECR ?"
   ]
  },
  {
   "cell_type": "markdown",
   "id": "7a034050",
   "metadata": {},
   "source": [
    "1. Navigate to ECR throught AWS console."
   ]
  },
  {
   "cell_type": "markdown",
   "id": "c0350ccc",
   "metadata": {},
   "source": [
    "![create-ecr](images/aws_ecr/ECR-navigation.png)"
   ]
  },
  {
   "cell_type": "markdown",
   "id": "cfbbdfd6",
   "metadata": {},
   "source": [
    "2. Click on **create**"
   ]
  },
  {
   "cell_type": "markdown",
   "id": "8d2409d3",
   "metadata": {},
   "source": [
    "![create-ecr](images/aws_ecr/create-ecr-1.png)"
   ]
  },
  {
   "cell_type": "markdown",
   "id": "bddf4fec",
   "metadata": {},
   "source": [
    "3. Once we click on **create** will get this window"
   ]
  },
  {
   "cell_type": "markdown",
   "id": "dca82d5c",
   "metadata": {},
   "source": [
    "![create-ecr](images/aws_ecr/create-ecr-2.png)"
   ]
  },
  {
   "cell_type": "markdown",
   "id": "b8a27e18",
   "metadata": {},
   "source": [
    "![create-ecr](images/aws_ecr/create-ecr-3.png)"
   ]
  },
  {
   "cell_type": "markdown",
   "id": "f593745a",
   "metadata": {},
   "source": [
    "**General settings:**\n",
    "\n",
    "- Give repository a name: *namsespace/repo-name*\n",
    "    - *namespace* will be  as *\"production\"*\n",
    "    - *repository* will be *\"finance_complaint\"*\n",
    "\n",
    "- Image tag mutability\n",
    "    - **Mutable** : image with same tag can be overwritten\n",
    "    - **Immutable** : image with same tag cannot be overwritten, tag should be unique in nature\n",
    "\n",
    "- we can't change image mutability tag once set"
   ]
  },
  {
   "cell_type": "markdown",
   "id": "380b631b",
   "metadata": {},
   "source": [
    "**Encryption settings:**\n",
    "\n",
    "- Encryption configuration with either of the algorithms\n",
    "    - **AES-256**\n",
    "    - **AWS KMS**\n",
    "\n",
    "- we can't change encryption once set"
   ]
  },
  {
   "cell_type": "markdown",
   "id": "1c925804",
   "metadata": {},
   "source": [
    "**Image Scanning settings - deprecated**\n",
    "\n",
    "- Extra layer of security on operatong system, before pushing image to repository, it scans the base OS image to check for any threat present or vernabilities.\n",
    "\n",
    "**Recommendation:** keep on"
   ]
  },
  {
   "cell_type": "markdown",
   "id": "1988de71",
   "metadata": {},
   "source": [
    "4. Now we have our own private repository on **AWS**, here we can push or pull the images based on our requirements"
   ]
  },
  {
   "cell_type": "markdown",
   "id": "2c5fddab",
   "metadata": {},
   "source": [
    "![create-ecr](images/aws_ecr/create-ecr-4.png)"
   ]
  },
  {
   "cell_type": "markdown",
   "id": "99fd73ce",
   "metadata": {},
   "source": [
    "5. click on `production/finance_complaint`, will see below page, as of now we haven't created any images, but when will connect this with our **CI/CD** pipeline in future then will see the images in repository"
   ]
  },
  {
   "cell_type": "markdown",
   "id": "2905fd12",
   "metadata": {},
   "source": [
    "![create-ecr](images/aws_ecr/create-ecr-5.png)"
   ]
  },
  {
   "cell_type": "markdown",
   "id": "4c11fe31",
   "metadata": {},
   "source": []
  }
 ],
 "metadata": {
  "language_info": {
   "name": "python"
  }
 },
 "nbformat": 4,
 "nbformat_minor": 5
}
