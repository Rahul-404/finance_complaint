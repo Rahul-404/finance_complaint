{
 "cells": [
  {
   "cell_type": "markdown",
   "id": "419d7d74",
   "metadata": {},
   "source": [
    "1. Login to your *AWS* account, once you logged in you will get your *AWS* management console"
   ]
  },
  {
   "cell_type": "markdown",
   "id": "6073e86b",
   "metadata": {},
   "source": [
    "![aws-console](images/aws_policy/AWS-console.png)"
   ]
  },
  {
   "cell_type": "markdown",
   "id": "1c344d53",
   "metadata": {},
   "source": [
    "2. Navigate to *IAM* service"
   ]
  },
  {
   "cell_type": "markdown",
   "id": "053d557a",
   "metadata": {},
   "source": [
    "![user-policy](images/aws_policy/IAM-navigation.png)"
   ]
  },
  {
   "cell_type": "markdown",
   "id": "6c76b608",
   "metadata": {},
   "source": [
    "3. Click on **Users** and navigate to the user which we created or going to use."
   ]
  },
  {
   "cell_type": "markdown",
   "id": "2efc9680",
   "metadata": {},
   "source": [
    "![user-policy](images/aws_policy/user-policy-1.png)"
   ]
  },
  {
   "cell_type": "markdown",
   "id": "25acd096",
   "metadata": {},
   "source": [
    "4. Once we navigate to user, click on the user (here it is **rahul06**), then you will see multiple tabs like *Permissions*, *Groups*, *Tags*, *Security credentials* and *Access Advisor*, you click on **Permissions**, to attach permissions and policies you have to click on the **Add permissions** tab then again **Add permissions**"
   ]
  },
  {
   "cell_type": "markdown",
   "id": "49eacdc9",
   "metadata": {},
   "source": [
    "![user-policy](images/aws_policy/user-policy-2.png)"
   ]
  },
  {
   "cell_type": "markdown",
   "id": "8a6065b6",
   "metadata": {},
   "source": [
    "5. We reach to this page, here will select **Attach policies directly**"
   ]
  },
  {
   "cell_type": "markdown",
   "id": "d65249ec",
   "metadata": {},
   "source": [
    "![user-policy](images/aws_policy/user-policy-3.png)"
   ]
  },
  {
   "cell_type": "markdown",
   "id": "c34c97ad",
   "metadata": {},
   "source": [
    "6. here will search the mentioned policies and click on checkbox so that the will be chosen, which are usefull for our project deployment\n",
    "\n",
    "Attach exsisting policies directly:\n",
    "\n",
    "- AmazonS3FullAccess\n",
    "- AmazonRDSFullAccess\n",
    "- AmazonEC2FullAccess"
   ]
  },
  {
   "cell_type": "markdown",
   "id": "f5396fa4",
   "metadata": {},
   "source": [
    "![user-policy](images/aws_policy/user-policy-4.png)"
   ]
  },
  {
   "cell_type": "markdown",
   "id": "090160fc",
   "metadata": {},
   "source": [
    "7. Click on the **Next** button, then click on the **Add permissions**"
   ]
  },
  {
   "cell_type": "markdown",
   "id": "f7bd4e42",
   "metadata": {},
   "source": [
    "![user-policy](images/aws_policy/user-policy-5.png)"
   ]
  },
  {
   "cell_type": "markdown",
   "id": "53d21507",
   "metadata": {},
   "source": [
    "8. Once you click on the **Add permission** button , will see those attached permission in users *permission* section"
   ]
  },
  {
   "cell_type": "markdown",
   "id": "f9b401e4",
   "metadata": {},
   "source": [
    "![user-policy](images/aws_policy/user-policy-6.png)"
   ]
  },
  {
   "cell_type": "markdown",
   "id": "e46d4601",
   "metadata": {},
   "source": [
    "Now we also want to attach the **elastic-container-registry** permission, So goto **Policies**, once you click on policies you can create your *own* policy."
   ]
  },
  {
   "cell_type": "markdown",
   "id": "2fb0dbf5",
   "metadata": {},
   "source": [
    "Click on **Create Policy** button"
   ]
  },
  {
   "cell_type": "markdown",
   "id": "08e6e2dd",
   "metadata": {},
   "source": [
    "![user-policy](images/aws_policy/user-policy-7.png)"
   ]
  },
  {
   "cell_type": "markdown",
   "id": "a4f35da2",
   "metadata": {},
   "source": [
    "Choose a service for which we want to make a policy, and then attach this to a user."
   ]
  },
  {
   "cell_type": "markdown",
   "id": "43160d34",
   "metadata": {},
   "source": [
    "So search there \"*Elastic Container Registry*\""
   ]
  },
  {
   "cell_type": "markdown",
   "id": "614d2fe6",
   "metadata": {},
   "source": [
    "![user-policy](images/aws_policy/user-policy-8.png)"
   ]
  },
  {
   "cell_type": "markdown",
   "id": "c2407c2a",
   "metadata": {},
   "source": [
    "So i want to give full access to this *elastic container registry*, so click on the check box"
   ]
  },
  {
   "cell_type": "markdown",
   "id": "65aebc2a",
   "metadata": {},
   "source": [
    "![user-policy](images/aws_policy/user-policy-9.png)"
   ]
  },
  {
   "cell_type": "markdown",
   "id": "36e12a8c",
   "metadata": {},
   "source": [
    "Here we are seeing resources, \n",
    "\n",
    "- [ ] Any in this account\n",
    "\n",
    "click on this checkbox"
   ]
  },
  {
   "cell_type": "markdown",
   "id": "9180c061",
   "metadata": {},
   "source": [
    "Click on the **Next Tags**"
   ]
  },
  {
   "cell_type": "markdown",
   "id": "38cf2e30",
   "metadata": {},
   "source": [
    "![user-policy](images/aws_policy/user-policy-10.png)"
   ]
  },
  {
   "cell_type": "markdown",
   "id": "110bd958",
   "metadata": {},
   "source": [
    "Here you have to give a name to the policy, will give `Elastic-Container-Registry`, we can provide some *Description* 'create by rahul06 to access ECR', by clicking on **Create policy** our custome policy will be created. "
   ]
  },
  {
   "cell_type": "markdown",
   "id": "f4b3a111",
   "metadata": {},
   "source": [
    "![user-policy](images/aws_policy/user-policy-11.png)"
   ]
  },
  {
   "cell_type": "markdown",
   "id": "8bd8be23",
   "metadata": {},
   "source": [
    "![user-policy](images/aws_policy/user-policy-12.png)"
   ]
  },
  {
   "cell_type": "markdown",
   "id": "688a81c0",
   "metadata": {},
   "source": [
    "Now we can see this custome plicy unser **Access Management** $\\rightarrow$ **Policies**, we can search here policy with given name, just attach that policy to our user"
   ]
  },
  {
   "cell_type": "markdown",
   "id": "7c471c75",
   "metadata": {},
   "source": [
    "![user-policy](images/aws_policy/user-policy-13.png)"
   ]
  },
  {
   "cell_type": "markdown",
   "id": "5287d19c",
   "metadata": {},
   "source": [
    "click on the `Elastic-Container-Registry` policy and switch to the **JSON**, now you can list all the things it can do."
   ]
  },
  {
   "cell_type": "markdown",
   "id": "3c34d21a",
   "metadata": {},
   "source": [
    "![user-policy](images/aws_policy/user-policy-14.png)"
   ]
  },
  {
   "cell_type": "markdown",
   "id": "24ad8dd5",
   "metadata": {},
   "source": [
    "![user-policy](images/aws_policy/user-policy-15.png)"
   ]
  },
  {
   "cell_type": "markdown",
   "id": "60089477",
   "metadata": {},
   "source": [
    "Now we will attach this policy to user **rahul06**, so that user can access the **ECR**\n",
    "\n",
    "    - Goto *Users* there search for user(*rahul06*)\n",
    "    - Click on user name\n",
    "    - Click on *Add permissions* tab\n",
    "    - Goto attach plicies directly\n",
    "    - Search here for *Elastic-Container-Registry*\n",
    "    - Click on checkbox , by adding it\n",
    "    - Click on *Next*\n",
    "    \n",
    "- we can see policy type it's **Customer managed**"
   ]
  },
  {
   "cell_type": "markdown",
   "id": "dad74231",
   "metadata": {},
   "source": [
    "![user-policy](images/aws_policy/user-policy-16.png)"
   ]
  },
  {
   "cell_type": "markdown",
   "id": "2bba971b",
   "metadata": {},
   "source": [
    "![user-policy](images/aws_policy/user-policy-17.png)"
   ]
  },
  {
   "cell_type": "markdown",
   "id": "57badc52",
   "metadata": {},
   "source": [
    "We have successfully attached the policies to the user"
   ]
  },
  {
   "cell_type": "markdown",
   "id": "62b72e5d",
   "metadata": {},
   "source": [
    "![user-policy](images/aws_policy/user-policy-18.png)"
   ]
  },
  {
   "cell_type": "markdown",
   "id": "3c4fefcf",
   "metadata": {},
   "source": []
  }
 ],
 "metadata": {
  "language_info": {
   "name": "python"
  }
 },
 "nbformat": 4,
 "nbformat_minor": 5
}
